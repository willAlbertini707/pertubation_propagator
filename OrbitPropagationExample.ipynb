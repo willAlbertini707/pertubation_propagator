{
 "cells": [
  {
   "cell_type": "code",
   "execution_count": 1,
   "id": "8c84c602",
   "metadata": {},
   "outputs": [],
   "source": [
    "# external imports\n",
    "import matplotlib.pyplot as plt\n",
    "import pandas as pd\n",
    "import numpy as np\n",
    "\n",
    "# internal imports\n",
    "from env_builder import EnvBuilder"
   ]
  },
  {
   "cell_type": "markdown",
   "id": "7423b113",
   "metadata": {},
   "source": [
    "## Define the Spacecraft's Properties\n",
    "\n",
    "A sample LEO spacecraft is used with initial state (calculated from TLE):\n",
    "\n",
    "> r: [-5062.82221407, 389.37651319, 4725.61337014] km  \n",
    "> v: [-0.1794572, -7.56685984, 0.43122637] km/s\n",
    "\n",
    "With attributes:\n",
    "\n",
    "> area: 4.908 $m^2$  \n",
    "> cd: 2.2  \n",
    "> mass: 260 kg  \n",
    "> mu: 398600.435436 $km^3 / s^2$\n"
   ]
  },
  {
   "cell_type": "code",
   "execution_count": 2,
   "id": "d11b9a83-832a-4f21-a602-90109a34868c",
   "metadata": {},
   "outputs": [],
   "source": [
    "# initial state of spacecraft\n",
    "r0 = np.array([-5062.82221407, 389.37651319, 4725.61337014])\n",
    "v0 = np.array([-0.1794572, -7.56685984, 0.43122637])"
   ]
  },
  {
   "cell_type": "code",
   "execution_count": 3,
   "id": "07add5f5",
   "metadata": {},
   "outputs": [
    {
     "name": "stdout",
     "output_type": "stream",
     "text": [
      "Environment created\n",
      "Propagation was successfully run\n"
     ]
    }
   ],
   "source": [
    "# set initial conditions\n",
    "area=1.25**2 * np.pi\n",
    "cd=2.2\n",
    "mass=260\n",
    "mu=398600.435436\n",
    "t0=0.0\n",
    "tf= 1800.0 * 24 * 3600\n",
    "dx= 60.0\n",
    "perts_100=\"obj1_1800days_perts.txt\"\n",
    "no_perts_100=\"obj1_1800days.txt\"\n",
    "\n",
    "init_jd = 2460250.67394\n",
    "\n",
    "# set up object parameters\n",
    "rusty_link = EnvBuilder(r0, v0, area, mass, init_jd)\n",
    "\n",
    "# build txt file with pertubations and without\n",
    "rusty_link.propagate(t0, tf, dx, perts_100, add_pertubations=\"true\")\n",
    "# rusty_link.propagate(t0, tf, dx, no_perts_100, add_pertubations=\"false\")"
   ]
  },
  {
   "cell_type": "markdown",
   "id": "7c71fb2a-01e7-47ff-b33f-16fc19f6d88c",
   "metadata": {},
   "source": [
    "## Plot the Position of the Spacecraft\n",
    "\n",
    "Various elements of the orbit can be calculated from the produced state vectors. For simplicity, the magnitude of the position are plotted here to show the orbital decay."
   ]
  },
  {
   "cell_type": "code",
   "execution_count": 4,
   "id": "654faa1b-0d65-4701-9bb6-25c4c88de341",
   "metadata": {},
   "outputs": [],
   "source": [
    "# plot the simulated data\n",
    "def plot_results(df, min_r):\n",
    "    \n",
    "    df[\"r_mag\"] = np.linalg.norm(df.values[:, 1:4], axis=1)\n",
    "     \n",
    "    df = df[df.r_mag < min_r]\n",
    "    \n",
    "    plt.plot(df.values[:,0]/3600/24, df.r_mag.values - 6378)\n",
    "    plt.title(\"Pertubational Effects on Spacecraft Position\")\n",
    "    plt.xlabel(\"Time (days)\")\n",
    "    plt.ylabel(\"Altitude (km)\")"
   ]
  },
  {
   "cell_type": "code",
   "execution_count": null,
   "id": "fdf0f06b-8622-4404-b32d-27443bf168c0",
   "metadata": {},
   "outputs": [],
   "source": [
    "# load in the data from the orbit\n",
    "results = pd.read_csv(\"obj1_1800days_perts.txt\", header = None, low_memory = False)\n",
    "results = results.astype(\"float\")\n",
    "\n",
    "# plot\n",
    "min_r = 8000 # this is alt + radius of earth (km)\n",
    "plot_results(results, min_r)"
   ]
  }
 ],
 "metadata": {
  "kernelspec": {
   "display_name": "Python 3 (ipykernel)",
   "language": "python",
   "name": "python3"
  },
  "language_info": {
   "codemirror_mode": {
    "name": "ipython",
    "version": 3
   },
   "file_extension": ".py",
   "mimetype": "text/x-python",
   "name": "python",
   "nbconvert_exporter": "python",
   "pygments_lexer": "ipython3",
   "version": "3.9.18"
  }
 },
 "nbformat": 4,
 "nbformat_minor": 5
}
